{
 "cells": [
  {
   "cell_type": "code",
   "execution_count": null,
   "metadata": {},
   "outputs": [],
   "source": [
    "import os\n",
    "import sys\n",
    "sys.path.append(os.path.join(os.getcwd(), \"..\"))"
   ]
  },
  {
   "cell_type": "code",
   "execution_count": null,
   "metadata": {},
   "outputs": [],
   "source": [
    "from collections import defaultdict\n",
    "from pathlib import Path\n",
    "\n",
    "import matplotlib.pyplot as plt\n",
    "import pandas as pd\n",
    "import numpy as np\n",
    "import seaborn as sns\n",
    "\n",
    "sns.set_style(\"darkgrid\")\n",
    "sns.set_context(\"paper\")"
   ]
  },
  {
   "cell_type": "code",
   "execution_count": null,
   "metadata": {},
   "outputs": [],
   "source": [
    "print(os.getcwd())"
   ]
  },
  {
   "cell_type": "code",
   "execution_count": null,
   "metadata": {
    "tags": [
     "parameters"
    ]
   },
   "outputs": [],
   "source": [
    "results_path = \"../data/experiments/ensemble_readouts/all_metrics.csv\"\n",
    "plot_path_svg = \"../data/experiments/ensemble_readouts/paper/params_vs_efficiency.svg\"\n",
    "plot_path_png = \"../data/experiments/ensemble_readouts/paper/params_vs_efficiency.png\"\n",
    "table_path = \"../data/experiments/ensemble_readouts/paper/results_percentage.tex\""
   ]
  },
  {
   "cell_type": "code",
   "execution_count": null,
   "metadata": {},
   "outputs": [],
   "source": [
    "res = pd.read_csv(results_path)\n",
    "\n",
    "# customize main metrics\n",
    "main_metric = defaultdict(lambda: \"test_F1Score\")\n",
    "main_metric[\"zinc\"] = \"test_R2\"\n",
    "res[\"main_metric\"] = res[\"dataset_name\"].map(main_metric)\n",
    "\n",
    "task = defaultdict(lambda: \"classification\")\n",
    "task[\"zinc\"] = \"regression\"\n",
    "res[\"task\"] = res[\"dataset_name\"].map(task)\n",
    "\n",
    "param_cols = [col for col in res.columns if col.startswith(\"params_\")]\n",
    "res[\"params_total\"] = res[param_cols].sum(axis=1)\n",
    "res[\"readout_name\"] = res[\"experiment_name\"].str.split(\"_\", n=1).str[-1]\n",
    "\n",
    "res.head()"
   ]
  },
  {
   "cell_type": "code",
   "execution_count": null,
   "metadata": {},
   "outputs": [],
   "source": [
    "# mapping readouts to their respective categories\n",
    "\n",
    "standard_experiments = [\n",
    "    \"sum\",\n",
    "    \"mean\",\n",
    "    \"max\",\n",
    "]\n",
    "\n",
    "ensemble_experiments = [\n",
    "    \"concat_r\",\n",
    "    \"w_mean_r\",\n",
    "    \"w_mean_r_proj\",\n",
    "    \"mean_pred\",\n",
    "    \"w_mean_pred\",\n",
    "    \"w_mean_pred_proj\",\n",
    "]\n",
    "\n",
    "parametrized_experiments = [\n",
    "    \"gru\",\n",
    "    \"dense\",\n",
    "    \"deepsets_base\",\n",
    "    \"deepsets_large\",\n",
    "    \"virtual_node\",\n",
    "]\n",
    "\n",
    "model_class = {name: \"NON-PARAMETRIZED\" for name in standard_experiments}\n",
    "model_class |= {name: \"ENSEMBLE\" for name in ensemble_experiments}\n",
    "model_class |= {name: \"PARAMETRIZED\" for name in parametrized_experiments}\n",
    "\n",
    "res[\"readout_class\"] = res[\"readout_name\"].map(model_class)"
   ]
  },
  {
   "cell_type": "code",
   "execution_count": null,
   "metadata": {},
   "outputs": [],
   "source": [
    "metric_cols = [\"test_F1Score\", \"test_R2\"]\n",
    "metric_cols = set(metric_cols).intersection(set(res.columns))\n",
    "\n",
    "assert metric_cols\n",
    "\n",
    "id_vars = [\"dataset_name\", \"task\", \"experiment_name\", \"graph_conv\", \"readout_name\", \"main_metric\", \"readout_class\", \"params_total\", \"params_graph_conv\", \"params_readout\", \"params_predictor\"]\n",
    "\n",
    "res_by_metric = res.melt(id_vars=id_vars, value_vars=metric_cols, var_name=\"metric_name\").copy()\n",
    "\n",
    "results = res_by_metric[res_by_metric[\"main_metric\"]==res_by_metric[\"metric_name\"]].copy()\n",
    "\n",
    "results.head()"
   ]
  },
  {
   "cell_type": "markdown",
   "metadata": {},
   "source": [
    "# Paper results"
   ]
  },
  {
   "cell_type": "code",
   "execution_count": null,
   "metadata": {},
   "outputs": [],
   "source": [
    "# DATA SELECTION PARAMS\n",
    "datasets = [\"ENZYMES\", \"zinc\", \"REDDIT-MULTI-12K\", \"MUTAG\"]\n",
    "convs = [\"gcn\", \"gin\", \"gat\"]\n",
    "readouts = standard_experiments + ensemble_experiments + parametrized_experiments\n",
    "\n",
    "# MAPPING PARAMS\n",
    "column_name_map = {\n",
    "    \"readout_class\": \"Readout Type\",\n",
    "    \"readout_name\": \"Readout\",\n",
    "    \"dataset_name\": \"Dataset\",\n",
    "}\n",
    "\n",
    "# OTHER PARAMS\n",
    "index_order = [\"NON-PARAMETRIZED\", \"PARAMETRIZED\", \"ENSEMBLE\"]"
   ]
  },
  {
   "cell_type": "code",
   "execution_count": null,
   "metadata": {},
   "outputs": [],
   "source": [
    "paper_res = results[results[\"dataset_name\"].isin(datasets) & results[\"graph_conv\"].isin(convs) & results[\"readout_name\"].isin(readouts)].copy()\n",
    "paper_res.head()"
   ]
  },
  {
   "cell_type": "markdown",
   "metadata": {},
   "source": [
    "# Metrics"
   ]
  },
  {
   "cell_type": "code",
   "execution_count": null,
   "metadata": {},
   "outputs": [],
   "source": [
    "html_pm_char = u\"\\u00B1\"\n",
    "latex_pm_char = \"\\\\pm\""
   ]
  },
  {
   "cell_type": "code",
   "execution_count": null,
   "metadata": {
    "tags": []
   },
   "outputs": [],
   "source": [
    "def format_value(val: float) -> str:\n",
    "    try:\n",
    "        return f\"{val: 0.2f}\"\n",
    "    except ValueError:\n",
    "        return \"-\"\n",
    "\n",
    "def bold_max_html(x):\n",
    "    x = x.str.split(html_pm_char).str[0].astype(float)\n",
    "\n",
    "    standard_max = np.where((x == x.loc[\"NON-PARAMETRIZED\"].max()) & (x.index.get_level_values(0) == \"NON-PARAMETRIZED\"), \"background-color: blue\", None)\n",
    "    param_max = np.where((x == x.loc[\"PARAMETRIZED\"].max()) & (x.index.get_level_values(0) == \"PARAMETRIZED\"), \"background-color: green\", standard_max)\n",
    "    ensemble_max = np.where((x == x.loc[\"ENSEMBLE\"].max()) & (x.index.get_level_values(0) == \"ENSEMBLE\"), \"background-color: purple\", param_max)\n",
    "    return np.where(x == np.nanmax(x.to_numpy()), \"font-weight: bold; color: red\", ensemble_max)\n",
    "\n",
    "def bold_max_latex(x):\n",
    "    x = x.str.strip(\"$\").str.split(r\"\\\\pm\").str[0].astype(float)\n",
    "    \n",
    "    standard_max = np.where((x == x.loc[\"NON-PARAMETRIZED\"].max()) & (x.index.get_level_values(0) == \"NON-PARAMETRIZED\"), \"underline: --rwrap\", None)\n",
    "    param_max = np.where((x == x.loc[\"PARAMETRIZED\"].max()) & (x.index.get_level_values(0) == \"PARAMETRIZED\"), \"underline: --rwrap\", standard_max)\n",
    "    ensemble_max = np.where((x == x.loc[\"ENSEMBLE\"].max()) & (x.index.get_level_values(0) == \"ENSEMBLE\"), \"underline: --rwrap\", param_max)\n",
    "    return np.where(x == np.nanmax(x.to_numpy()), \"mathbf: --rwrap; underline: --rwrap\", ensemble_max)"
   ]
  },
  {
   "cell_type": "code",
   "execution_count": null,
   "metadata": {},
   "outputs": [],
   "source": [
    "exp_ids = [\"dataset_name\", \"readout_class\", \"readout_name\", \"graph_conv\"]\n",
    "\n",
    "def prepare_results(paper_res: pd.DataFrame, pm_char: str):\n",
    "    summary_df = paper_res.groupby(exp_ids)[\"value\"].agg([\"mean\", \"std\"]) * 100\n",
    "    summary_df = pd.pivot_table(summary_df.reset_index(), values=[\"mean\", \"std\"], index=[\"readout_class\", \"readout_name\"], columns=[\"dataset_name\", \"graph_conv\"])\n",
    "    summary_df = summary_df[\"mean\"].applymap(format_value).astype(str) + f\" {pm_char}\" + summary_df[\"std\"].applymap(format_value).astype(str)\n",
    "    summary_df = summary_df.loc[index_order]\n",
    "\n",
    "    return summary_df"
   ]
  },
  {
   "cell_type": "code",
   "execution_count": null,
   "metadata": {},
   "outputs": [],
   "source": [
    "paper_res_summary = prepare_results(paper_res, html_pm_char)\n",
    "\n",
    "# paper_res_summary_fmt = paper_res_summary.style.apply(bold_max_latex, axis=0).format(\"${}$\")\n",
    "paper_res_summary_fmt = paper_res_summary.style.apply(bold_max_html, axis=0)\n",
    "with pd.option_context('display.max_rows', len(paper_res_summary)):\n",
    "    display(paper_res_summary_fmt) "
   ]
  },
  {
   "cell_type": "code",
   "execution_count": null,
   "metadata": {},
   "outputs": [],
   "source": [
    "os.makedirs(os.path.dirname(table_path), exist_ok=True)\n",
    "paper_res_summary = prepare_results(paper_res, latex_pm_char)\n",
    "paper_res_summary_fmt = paper_res_summary.style.apply(bold_max_latex, axis=0).format(\"${}$\")\n",
    "paper_res_summary_fmt.to_latex(table_path)"
   ]
  },
  {
   "cell_type": "code",
   "execution_count": null,
   "metadata": {},
   "outputs": [],
   "source": [
    "# experiment number sanity check\n",
    "\n",
    "paper_repeats_summary = paper_res.groupby(exp_ids)[\"value\"].count().reset_index()\n",
    "paper_repeats_summary = pd.pivot_table(paper_repeats_summary.reset_index(), values=[\"value\"], index=[\"readout_class\", \"readout_name\"], columns=[\"dataset_name\", \"graph_conv\"])\n",
    "\n",
    "with pd.option_context('display.max_rows', len(paper_repeats_summary)):\n",
    "    display(paper_repeats_summary)"
   ]
  },
  {
   "cell_type": "markdown",
   "metadata": {},
   "source": [
    "# Parameters"
   ]
  },
  {
   "cell_type": "code",
   "execution_count": null,
   "metadata": {},
   "outputs": [],
   "source": [
    "exp_ids = [\"dataset_name\", \"graph_conv\", \"readout_class\", \"readout_name\"]\n",
    "paper_param_summary = paper_res.groupby(exp_ids)[[\"params_readout\", \"params_predictor\"]].first()\n",
    "paper_param_summary = pd.pivot_table(paper_param_summary.reset_index(), values=[\"params_readout\",\"params_predictor\"], index=[\"readout_class\", \"readout_name\"], columns=[\"dataset_name\", \"graph_conv\"])\n",
    "paper_param_summary = paper_param_summary // 1_000\n",
    "paper_param_summary = paper_param_summary[\"params_readout\"].astype(str) + \"k / \" + paper_param_summary[\"params_predictor\"].astype(str) + \"k\"\n",
    "\n",
    "paper_param_summary.loc[paper_res_summary.index]"
   ]
  },
  {
   "cell_type": "markdown",
   "metadata": {},
   "source": [
    "## Parameter plots"
   ]
  },
  {
   "cell_type": "code",
   "execution_count": null,
   "metadata": {},
   "outputs": [],
   "source": [
    "hue = \"readout_class\"\n",
    "agg =[\"readout_name\", \"graph_conv\"]\n",
    "hue_names = paper_res[hue].unique()\n",
    "colors = {hn: sns.color_palette(\"tab10\")[i] for i, hn in enumerate(hue_names)}\n",
    "\n",
    "\n",
    "fig, axes = plt.subplots(2, 2, figsize=(2*8, 2*5))\n",
    "prev_ax = None\n",
    "\n",
    "for (ds_name, ds_res), ax in zip(paper_res.groupby(\"dataset_name\"), axes.flatten()):\n",
    "    for r_name, r_res in ds_res.groupby(hue):\n",
    "        \n",
    "        if prev_ax:\n",
    "            legend = prev_ax.get_legend()\n",
    "            if legend: \n",
    "                legend.remove()\n",
    "        \n",
    "        params_total = r_res.groupby(agg)[\"params_total\"].first()\n",
    "        metric_val = r_res.groupby(agg)[\"value\"].mean()\n",
    "        \n",
    "        ax.scatter(x=params_total, y=metric_val, color=colors[r_name], s=100, label=r_name)\n",
    "        ax.set_xlabel(\"#parameters\")\n",
    "        ax.set_ylabel(r_res[\"metric_name\"].unique()[0].split(\"_\")[1])\n",
    "        ax.set_xscale(\"log\")\n",
    "        ax.set_title(ds_name.upper())\n",
    "        \n",
    "        prev_ax = ax\n",
    "\n",
    "fig.legend(*ax.get_legend_handles_labels(),loc='upper center', bbox_to_anchor=(0.5, 1.00), bbox_transform=fig.transFigure, fancybox=True, shadow=True, ncol=5)\n",
    "fig.tight_layout()\n",
    "plt.savefig(plot_path_svg)\n",
    "plt.savefig(plot_path_png, dpi=600)\n",
    "plt.show()"
   ]
  }
 ],
 "metadata": {
  "kernelspec": {
   "display_name": "Python 3 (ipykernel)",
   "language": "python",
   "name": "python3"
  },
  "language_info": {
   "codemirror_mode": {
    "name": "ipython",
    "version": 3
   },
   "file_extension": ".py",
   "mimetype": "text/x-python",
   "name": "python",
   "nbconvert_exporter": "python",
   "pygments_lexer": "ipython3",
   "version": "3.10.9"
  },
  "vscode": {
   "interpreter": {
    "hash": "009c66050ea7226bd8f7fd8321be7a7354ebdbb605c7b4c31be0067807552e1b"
   }
  }
 },
 "nbformat": 4,
 "nbformat_minor": 4
}
